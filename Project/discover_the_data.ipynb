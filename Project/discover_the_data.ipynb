{
 "cells": [
  {
   "cell_type": "markdown",
   "metadata": {},
   "source": [
    "# Data Discovery"
   ]
  },
  {
   "cell_type": "code",
   "execution_count": 5,
   "metadata": {
    "tags": []
   },
   "outputs": [
    {
     "output_type": "stream",
     "name": "stdout",
     "text": "\u001b[31mUntitled.ipynb\u001b[m\u001b[m          \u001b[31mdiscover_the_data.ipynb\u001b[m\u001b[m\n\u001b[30m\u001b[43mcode\u001b[m\u001b[m                    \u001b[30m\u001b[43mraw_data\u001b[m\u001b[m\n\u001b[01;34mraw_data\u001b[00m\n├── \u001b[01;32mCori_2016-12-14.tar\u001b[00m\n├── \u001b[01;32mCori_2016-12-17.tar\u001b[00m\n├── \u001b[01;32mCori_2016-12-18.tar\u001b[00m\n├── \u001b[01;32mForssmann_2017-11-01.tar\u001b[00m\n├── \u001b[01;32mForssmann_2017-11-02.tar\u001b[00m\n├── \u001b[01;32mForssmann_2017-11-04.tar\u001b[00m\n├── \u001b[01;32mForssmann_2017-11-05.tar\u001b[00m\n├── \u001b[01;32mHench_2017-06-15.tar\u001b[00m\n├── \u001b[01;32mHench_2017-06-16.tar\u001b[00m\n├── \u001b[01;32mHench_2017-06-17.tar\u001b[00m\n├── \u001b[01;32mHench_2017-06-18.tar\u001b[00m\n├── \u001b[01;32mLederberg_2017-12-05.tar\u001b[00m\n├── \u001b[01;32mLederberg_2017-12-06.tar\u001b[00m\n├── \u001b[01;32mLederberg_2017-12-07.tar\u001b[00m\n├── \u001b[01;32mLederberg_2017-12-08.tar\u001b[00m\n├── \u001b[01;32mLederberg_2017-12-09.tar\u001b[00m\n├── \u001b[01;32mLederberg_2017-12-10.tar\u001b[00m\n├── \u001b[01;32mLederberg_2017-12-11.tar\u001b[00m\n├── \u001b[01;32mMoniz_2017-05-15.tar\u001b[00m\n├── \u001b[01;32mMoniz_2017-05-16.tar\u001b[00m\n├── \u001b[01;32mMoniz_2017-05-18.tar\u001b[00m\n├── \u001b[01;32mMuller_2017-01-07.tar\u001b[00m\n├── \u001b[01;32mMuller_2017-01-08.tar\u001b[00m\n├── \u001b[01;32mMuller_2017-01-09.tar\u001b[00m\n├── \u001b[01;32mRadnitz_2017-01-08.tar\u001b[00m\n├── \u001b[01;32mRadnitz_2017-01-09.tar\u001b[00m\n├── \u001b[01;32mRadnitz_2017-01-10.tar\u001b[00m\n├── \u001b[01;32mRadnitz_2017-01-11.tar\u001b[00m\n├── \u001b[01;34mRadnitz_2017-01-12\u001b[00m\n│   ├── \u001b[01;32mRadnitz_2017-01-12_M1_g0_t0.imec.lf.timestamps.npy\u001b[00m\n│   ├── \u001b[01;32mRadnitz_2017-01-12_S1_g0_t0.imec.lf.timestamps.npy\u001b[00m\n│   ├── \u001b[01;32mchannels.brainLocation.tsv\u001b[00m\n│   ├── \u001b[01;32mchannels.probe.npy\u001b[00m\n│   ├── \u001b[01;32mchannels.rawRow.npy\u001b[00m\n│   ├── \u001b[01;32mchannels.site.npy\u001b[00m\n│   ├── \u001b[01;32mchannels.sitePositions.npy\u001b[00m\n│   ├── \u001b[01;32mclusters._phy_annotation.npy\u001b[00m\n│   ├── \u001b[01;32mclusters.depths.npy\u001b[00m\n│   ├── \u001b[01;32mclusters.originalIDs.npy\u001b[00m\n│   ├── \u001b[01;32mclusters.peakChannel.npy\u001b[00m\n│   ├── \u001b[01;32mclusters.probes.npy\u001b[00m\n│   ├── \u001b[01;32mclusters.templateWaveformChans.npy\u001b[00m\n│   ├── \u001b[01;32mclusters.templateWaveforms.npy\u001b[00m\n│   ├── \u001b[01;32mclusters.waveformDuration.npy\u001b[00m\n│   ├── \u001b[01;32meye.area.npy\u001b[00m\n│   ├── \u001b[01;32meye.timestamps.npy\u001b[00m\n│   ├── \u001b[01;32meye.xyPos.npy\u001b[00m\n│   ├── \u001b[01;32mface.motionEnergy.npy\u001b[00m\n│   ├── \u001b[01;32mface.timestamps.npy\u001b[00m\n│   ├── \u001b[01;32mlickPiezo.raw.npy\u001b[00m\n│   ├── \u001b[01;32mlickPiezo.timestamps.npy\u001b[00m\n│   ├── \u001b[01;32mlicks.times.npy\u001b[00m\n│   ├── \u001b[01;32mpassiveBeeps.times.npy\u001b[00m\n│   ├── \u001b[01;32mpassiveValveClick.times.npy\u001b[00m\n│   ├── \u001b[01;32mpassiveVisual.contrastLeft.npy\u001b[00m\n│   ├── \u001b[01;32mpassiveVisual.contrastRight.npy\u001b[00m\n│   ├── \u001b[01;32mpassiveVisual.times.npy\u001b[00m\n│   ├── \u001b[01;32mpassiveWhiteNoise.times.npy\u001b[00m\n│   ├── \u001b[01;32mprobes.description.tsv\u001b[00m\n│   ├── \u001b[01;32mprobes.insertion.tsv\u001b[00m\n│   ├── \u001b[01;32mprobes.rawFilename.tsv\u001b[00m\n│   ├── \u001b[01;32mprobes.sitePositions.npy\u001b[00m\n│   ├── \u001b[01;32msparseNoise.positions.npy\u001b[00m\n│   ├── \u001b[01;32msparseNoise.times.npy\u001b[00m\n│   ├── \u001b[01;32mspikes.amps.npy\u001b[00m\n│   ├── \u001b[01;32mspikes.clusters.npy\u001b[00m\n│   ├── \u001b[01;32mspikes.depths.npy\u001b[00m\n│   ├── \u001b[01;32mspikes.times.npy\u001b[00m\n│   ├── \u001b[01;32mspontaneous.intervals.npy\u001b[00m\n│   ├── \u001b[01;32mtrials.feedbackType.npy\u001b[00m\n│   ├── \u001b[01;32mtrials.feedback_times.npy\u001b[00m\n│   ├── \u001b[01;32mtrials.goCue_times.npy\u001b[00m\n│   ├── \u001b[01;32mtrials.included.npy\u001b[00m\n│   ├── \u001b[01;32mtrials.intervals.npy\u001b[00m\n│   ├── \u001b[01;32mtrials.repNum.npy\u001b[00m\n│   ├── \u001b[01;32mtrials.response_choice.npy\u001b[00m\n│   ├── \u001b[01;32mtrials.response_times.npy\u001b[00m\n│   ├── \u001b[01;32mtrials.visualStim_contrastLeft.npy\u001b[00m\n│   ├── \u001b[01;32mtrials.visualStim_contrastRight.npy\u001b[00m\n│   ├── \u001b[01;32mtrials.visualStim_times.npy\u001b[00m\n│   ├── \u001b[01;32mwheel.position.npy\u001b[00m\n│   ├── \u001b[01;32mwheel.timestamps.npy\u001b[00m\n│   ├── \u001b[01;32mwheelMoves.intervals.npy\u001b[00m\n│   └── \u001b[01;32mwheelMoves.type.npy\u001b[00m\n├── \u001b[01;32mRadnitz_2017-01-12.tar\u001b[00m\n├── \u001b[01;34mRichards_2017-10-29\u001b[00m\n│   ├── \u001b[01;32mRichards_2017-10-29_K1_g0_t0.imec.lf.timestamps.npy\u001b[00m\n│   ├── \u001b[01;32mRichards_2017-10-29_K2_g0_t0.imec.lf.timestamps.npy\u001b[00m\n│   ├── \u001b[01;32mRichards_2017-10-29_K3_g0_t0.imec.lf.timestamps.npy\u001b[00m\n│   ├── \u001b[01;32mchannels.brainLocation.tsv\u001b[00m\n│   ├── \u001b[01;32mchannels.probe.npy\u001b[00m\n│   ├── \u001b[01;32mchannels.rawRow.npy\u001b[00m\n│   ├── \u001b[01;32mchannels.site.npy\u001b[00m\n│   ├── \u001b[01;32mchannels.sitePositions.npy\u001b[00m\n│   ├── \u001b[01;32mclusters._phy_annotation.npy\u001b[00m\n│   ├── \u001b[01;32mclusters.depths.npy\u001b[00m\n│   ├── \u001b[01;32mclusters.originalIDs.npy\u001b[00m\n│   ├── \u001b[01;32mclusters.peakChannel.npy\u001b[00m\n│   ├── \u001b[01;32mclusters.probes.npy\u001b[00m\n│   ├── \u001b[01;32mclusters.templateWaveformChans.npy\u001b[00m\n│   ├── \u001b[01;32mclusters.templateWaveforms.npy\u001b[00m\n│   ├── \u001b[01;32mclusters.waveformDuration.npy\u001b[00m\n│   ├── \u001b[01;32meye.area.npy\u001b[00m\n│   ├── \u001b[01;32meye.timestamps.npy\u001b[00m\n│   ├── \u001b[01;32meye.xyPos.npy\u001b[00m\n│   ├── \u001b[01;32mface.motionEnergy.npy\u001b[00m\n│   ├── \u001b[01;32mface.timestamps.npy\u001b[00m\n│   ├── \u001b[01;32mlickPiezo.raw.npy\u001b[00m\n│   ├── \u001b[01;32mlickPiezo.timestamps.npy\u001b[00m\n│   ├── \u001b[01;32mlicks.times.npy\u001b[00m\n│   ├── \u001b[01;32mpassiveBeeps.times.npy\u001b[00m\n│   ├── \u001b[01;32mpassiveValveClick.times.npy\u001b[00m\n│   ├── \u001b[01;32mpassiveVisual.contrastLeft.npy\u001b[00m\n│   ├── \u001b[01;32mpassiveVisual.contrastRight.npy\u001b[00m\n│   ├── \u001b[01;32mpassiveVisual.times.npy\u001b[00m\n│   ├── \u001b[01;32mpassiveWhiteNoise.times.npy\u001b[00m\n│   ├── \u001b[01;32mprobes.description.tsv\u001b[00m\n│   ├── \u001b[01;32mprobes.insertion.tsv\u001b[00m\n│   ├── \u001b[01;32mprobes.rawFilename.tsv\u001b[00m\n│   ├── \u001b[01;32mprobes.sitePositions.npy\u001b[00m\n│   ├── \u001b[01;32msparseNoise.positions.npy\u001b[00m\n│   ├── \u001b[01;32msparseNoise.times.npy\u001b[00m\n│   ├── \u001b[01;32mspikes.amps.npy\u001b[00m\n│   ├── \u001b[01;32mspikes.clusters.npy\u001b[00m\n│   ├── \u001b[01;32mspikes.depths.npy\u001b[00m\n│   ├── \u001b[01;32mspikes.times.npy\u001b[00m\n│   ├── \u001b[01;32mspontaneous.intervals.npy\u001b[00m\n│   ├── \u001b[01;32mtrials.feedbackType.npy\u001b[00m\n│   ├── \u001b[01;32mtrials.feedback_times.npy\u001b[00m\n│   ├── \u001b[01;32mtrials.goCue_times.npy\u001b[00m\n│   ├── \u001b[01;32mtrials.included.npy\u001b[00m\n│   ├── \u001b[01;32mtrials.intervals.npy\u001b[00m\n│   ├── \u001b[01;32mtrials.repNum.npy\u001b[00m\n│   ├── \u001b[01;32mtrials.response_choice.npy\u001b[00m\n│   ├── \u001b[01;32mtrials.response_times.npy\u001b[00m\n│   ├── \u001b[01;32mtrials.visualStim_contrastLeft.npy\u001b[00m\n│   ├── \u001b[01;32mtrials.visualStim_contrastRight.npy\u001b[00m\n│   ├── \u001b[01;32mtrials.visualStim_times.npy\u001b[00m\n│   ├── \u001b[01;32mwheel.position.npy\u001b[00m\n│   ├── \u001b[01;32mwheel.timestamps.npy\u001b[00m\n│   ├── \u001b[01;32mwheelMoves.intervals.npy\u001b[00m\n│   └── \u001b[01;32mwheelMoves.type.npy\u001b[00m\n├── \u001b[01;32mRichards_2017-10-29.tar\u001b[00m\n├── \u001b[01;34mRichards_2017-10-30\u001b[00m\n│   ├── \u001b[01;32mRichards_2017-10-30_K2_g0_t0.imec.lf.timestamps.npy\u001b[00m\n│   ├── \u001b[01;32mRichards_2017-10-30_K3_g0_t0.imec.lf.timestamps.npy\u001b[00m\n│   ├── \u001b[01;32mchannels.brainLocation.tsv\u001b[00m\n│   ├── \u001b[01;32mchannels.probe.npy\u001b[00m\n│   ├── \u001b[01;32mchannels.rawRow.npy\u001b[00m\n│   ├── \u001b[01;32mchannels.site.npy\u001b[00m\n│   ├── \u001b[01;32mchannels.sitePositions.npy\u001b[00m\n│   ├── \u001b[01;32mclusters._phy_annotation.npy\u001b[00m\n│   ├── \u001b[01;32mclusters.depths.npy\u001b[00m\n│   ├── \u001b[01;32mclusters.originalIDs.npy\u001b[00m\n│   ├── \u001b[01;32mclusters.peakChannel.npy\u001b[00m\n│   ├── \u001b[01;32mclusters.probes.npy\u001b[00m\n│   ├── \u001b[01;32mclusters.templateWaveformChans.npy\u001b[00m\n│   ├── \u001b[01;32mclusters.templateWaveforms.npy\u001b[00m\n│   ├── \u001b[01;32mclusters.waveformDuration.npy\u001b[00m\n│   ├── \u001b[01;32meye.area.npy\u001b[00m\n│   ├── \u001b[01;32meye.timestamps.npy\u001b[00m\n│   ├── \u001b[01;32meye.xyPos.npy\u001b[00m\n│   ├── \u001b[01;32mface.motionEnergy.npy\u001b[00m\n│   ├── \u001b[01;32mface.timestamps.npy\u001b[00m\n│   ├── \u001b[01;32mlickPiezo.raw.npy\u001b[00m\n│   ├── \u001b[01;32mlickPiezo.timestamps.npy\u001b[00m\n│   ├── \u001b[01;32mlicks.times.npy\u001b[00m\n│   ├── \u001b[01;32mpassiveBeeps.times.npy\u001b[00m\n│   ├── \u001b[01;32mpassiveValveClick.times.npy\u001b[00m\n│   ├── \u001b[01;32mpassiveVisual.contrastLeft.npy\u001b[00m\n│   ├── \u001b[01;32mpassiveVisual.contrastRight.npy\u001b[00m\n│   ├── \u001b[01;32mpassiveVisual.times.npy\u001b[00m\n│   ├── \u001b[01;32mpassiveWhiteNoise.times.npy\u001b[00m\n│   ├── \u001b[01;32mprobes.description.tsv\u001b[00m\n│   ├── \u001b[01;32mprobes.insertion.tsv\u001b[00m\n│   ├── \u001b[01;32mprobes.rawFilename.tsv\u001b[00m\n│   ├── \u001b[01;32mprobes.sitePositions.npy\u001b[00m\n│   ├── \u001b[01;32msparseNoise.positions.npy\u001b[00m\n│   ├── \u001b[01;32msparseNoise.times.npy\u001b[00m\n│   ├── \u001b[01;32mspikes.amps.npy\u001b[00m\n│   ├── \u001b[01;32mspikes.clusters.npy\u001b[00m\n│   ├── \u001b[01;32mspikes.depths.npy\u001b[00m\n│   ├── \u001b[01;32mspikes.times.npy\u001b[00m\n│   ├── \u001b[01;32mspontaneous.intervals.npy\u001b[00m\n│   ├── \u001b[01;32mtrials.feedbackType.npy\u001b[00m\n│   ├── \u001b[01;32mtrials.feedback_times.npy\u001b[00m\n│   ├── \u001b[01;32mtrials.goCue_times.npy\u001b[00m\n│   ├── \u001b[01;32mtrials.included.npy\u001b[00m\n│   ├── \u001b[01;32mtrials.intervals.npy\u001b[00m\n│   ├── \u001b[01;32mtrials.repNum.npy\u001b[00m\n│   ├── \u001b[01;32mtrials.response_choice.npy\u001b[00m\n│   ├── \u001b[01;32mtrials.response_times.npy\u001b[00m\n│   ├── \u001b[01;32mtrials.visualStim_contrastLeft.npy\u001b[00m\n│   ├── \u001b[01;32mtrials.visualStim_contrastRight.npy\u001b[00m\n│   ├── \u001b[01;32mtrials.visualStim_times.npy\u001b[00m\n│   ├── \u001b[01;32mwheel.position.npy\u001b[00m\n│   ├── \u001b[01;32mwheel.timestamps.npy\u001b[00m\n│   ├── \u001b[01;32mwheelMoves.intervals.npy\u001b[00m\n│   └── \u001b[01;32mwheelMoves.type.npy\u001b[00m\n├── \u001b[01;32mRichards_2017-10-30.tar\u001b[00m\n├── \u001b[01;34mRichards_2017-10-31\u001b[00m\n│   ├── \u001b[01;32mRichards_2017-10-31_K1_g0_t0.imec.lf.timestamps.npy\u001b[00m\n│   ├── \u001b[01;32mRichards_2017-10-31_K3_g0_t0.imec.lf.timestamps.npy\u001b[00m\n│   ├── \u001b[01;32mchannels.brainLocation.tsv\u001b[00m\n│   ├── \u001b[01;32mchannels.probe.npy\u001b[00m\n│   ├── \u001b[01;32mchannels.rawRow.npy\u001b[00m\n│   ├── \u001b[01;32mchannels.site.npy\u001b[00m\n│   ├── \u001b[01;32mchannels.sitePositions.npy\u001b[00m\n│   ├── \u001b[01;32mclusters._phy_annotation.npy\u001b[00m\n│   ├── \u001b[01;32mclusters.depths.npy\u001b[00m\n│   ├── \u001b[01;32mclusters.originalIDs.npy\u001b[00m\n│   ├── \u001b[01;32mclusters.peakChannel.npy\u001b[00m\n│   ├── \u001b[01;32mclusters.probes.npy\u001b[00m\n│   ├── \u001b[01;32mclusters.templateWaveformChans.npy\u001b[00m\n│   ├── \u001b[01;32mclusters.templateWaveforms.npy\u001b[00m\n│   ├── \u001b[01;32mclusters.waveformDuration.npy\u001b[00m\n│   ├── \u001b[01;32meye.area.npy\u001b[00m\n│   ├── \u001b[01;32meye.timestamps.npy\u001b[00m\n│   ├── \u001b[01;32meye.xyPos.npy\u001b[00m\n│   ├── \u001b[01;32mface.motionEnergy.npy\u001b[00m\n│   ├── \u001b[01;32mface.timestamps.npy\u001b[00m\n│   ├── \u001b[01;32mlickPiezo.raw.npy\u001b[00m\n│   ├── \u001b[01;32mlickPiezo.timestamps.npy\u001b[00m\n│   ├── \u001b[01;32mlicks.times.npy\u001b[00m\n│   ├── \u001b[01;32mpassiveBeeps.times.npy\u001b[00m\n│   ├── \u001b[01;32mpassiveValveClick.times.npy\u001b[00m\n│   ├── \u001b[01;32mpassiveVisual.contrastLeft.npy\u001b[00m\n│   ├── \u001b[01;32mpassiveVisual.contrastRight.npy\u001b[00m\n│   ├── \u001b[01;32mpassiveVisual.times.npy\u001b[00m\n│   ├── \u001b[01;32mpassiveWhiteNoise.times.npy\u001b[00m\n│   ├── \u001b[01;32mprobes.description.tsv\u001b[00m\n│   ├── \u001b[01;32mprobes.insertion.tsv\u001b[00m\n│   ├── \u001b[01;32mprobes.rawFilename.tsv\u001b[00m\n│   ├── \u001b[01;32mprobes.sitePositions.npy\u001b[00m\n│   ├── \u001b[01;32msparseNoise.positions.npy\u001b[00m\n│   ├── \u001b[01;32msparseNoise.times.npy\u001b[00m\n│   ├── \u001b[01;32mspikes.amps.npy\u001b[00m\n│   ├── \u001b[01;32mspikes.clusters.npy\u001b[00m\n│   ├── \u001b[01;32mspikes.depths.npy\u001b[00m\n│   ├── \u001b[01;32mspikes.times.npy\u001b[00m\n│   ├── \u001b[01;32mspontaneous.intervals.npy\u001b[00m\n│   ├── \u001b[01;32mtrials.feedbackType.npy\u001b[00m\n│   ├── \u001b[01;32mtrials.feedback_times.npy\u001b[00m\n│   ├── \u001b[01;32mtrials.goCue_times.npy\u001b[00m\n│   ├── \u001b[01;32mtrials.included.npy\u001b[00m\n│   ├── \u001b[01;32mtrials.intervals.npy\u001b[00m\n│   ├── \u001b[01;32mtrials.repNum.npy\u001b[00m\n│   ├── \u001b[01;32mtrials.response_choice.npy\u001b[00m\n│   ├── \u001b[01;32mtrials.response_times.npy\u001b[00m\n│   ├── \u001b[01;32mtrials.visualStim_contrastLeft.npy\u001b[00m\n│   ├── \u001b[01;32mtrials.visualStim_contrastRight.npy\u001b[00m\n│   ├── \u001b[01;32mtrials.visualStim_times.npy\u001b[00m\n│   ├── \u001b[01;32mwheel.position.npy\u001b[00m\n│   ├── \u001b[01;32mwheel.timestamps.npy\u001b[00m\n│   ├── \u001b[01;32mwheelMoves.intervals.npy\u001b[00m\n│   └── \u001b[01;32mwheelMoves.type.npy\u001b[00m\n├── \u001b[01;32mRichards_2017-10-31.tar\u001b[00m\n├── \u001b[01;34mRichards_2017-11-01\u001b[00m\n│   ├── \u001b[01;32mRichards_2017-11-01_K1_g0_t0.imec.lf.timestamps.npy\u001b[00m\n│   ├── \u001b[01;32mRichards_2017-11-01_K3_g0_t0.imec.lf.timestamps.npy\u001b[00m\n│   ├── \u001b[01;32mchannels.brainLocation.tsv\u001b[00m\n│   ├── \u001b[01;32mchannels.probe.npy\u001b[00m\n│   ├── \u001b[01;32mchannels.rawRow.npy\u001b[00m\n│   ├── \u001b[01;32mchannels.site.npy\u001b[00m\n│   ├── \u001b[01;32mchannels.sitePositions.npy\u001b[00m\n│   ├── \u001b[01;32mclusters._phy_annotation.npy\u001b[00m\n│   ├── \u001b[01;32mclusters.depths.npy\u001b[00m\n│   ├── \u001b[01;32mclusters.originalIDs.npy\u001b[00m\n│   ├── \u001b[01;32mclusters.peakChannel.npy\u001b[00m\n│   ├── \u001b[01;32mclusters.probes.npy\u001b[00m\n│   ├── \u001b[01;32mclusters.templateWaveformChans.npy\u001b[00m\n│   ├── \u001b[01;32mclusters.templateWaveforms.npy\u001b[00m\n│   ├── \u001b[01;32mclusters.waveformDuration.npy\u001b[00m\n│   ├── \u001b[01;32meye.area.npy\u001b[00m\n│   ├── \u001b[01;32meye.timestamps.npy\u001b[00m\n│   ├── \u001b[01;32meye.xyPos.npy\u001b[00m\n│   ├── \u001b[01;32mface.motionEnergy.npy\u001b[00m\n│   ├── \u001b[01;32mface.timestamps.npy\u001b[00m\n│   ├── \u001b[01;32mlickPiezo.raw.npy\u001b[00m\n│   ├── \u001b[01;32mlickPiezo.timestamps.npy\u001b[00m\n│   ├── \u001b[01;32mlicks.times.npy\u001b[00m\n│   ├── \u001b[01;32mpassiveBeeps.times.npy\u001b[00m\n│   ├── \u001b[01;32mpassiveValveClick.times.npy\u001b[00m\n│   ├── \u001b[01;32mpassiveVisual.contrastLeft.npy\u001b[00m\n│   ├── \u001b[01;32mpassiveVisual.contrastRight.npy\u001b[00m\n│   ├── \u001b[01;32mpassiveVisual.times.npy\u001b[00m\n│   ├── \u001b[01;32mpassiveWhiteNoise.times.npy\u001b[00m\n│   ├── \u001b[01;32mprobes.description.tsv\u001b[00m\n│   ├── \u001b[01;32mprobes.insertion.tsv\u001b[00m\n│   ├── \u001b[01;32mprobes.rawFilename.tsv\u001b[00m\n│   ├── \u001b[01;32mprobes.sitePositions.npy\u001b[00m\n│   ├── \u001b[01;32msparseNoise.positions.npy\u001b[00m\n│   ├── \u001b[01;32msparseNoise.times.npy\u001b[00m\n│   ├── \u001b[01;32mspikes.amps.npy\u001b[00m\n│   ├── \u001b[01;32mspikes.clusters.npy\u001b[00m\n│   ├── \u001b[01;32mspikes.depths.npy\u001b[00m\n│   ├── \u001b[01;32mspikes.times.npy\u001b[00m\n│   ├── \u001b[01;32mspontaneous.intervals.npy\u001b[00m\n│   ├── \u001b[01;32mtrials.feedbackType.npy\u001b[00m\n│   ├── \u001b[01;32mtrials.feedback_times.npy\u001b[00m\n│   ├── \u001b[01;32mtrials.goCue_times.npy\u001b[00m\n│   ├── \u001b[01;32mtrials.included.npy\u001b[00m\n│   ├── \u001b[01;32mtrials.intervals.npy\u001b[00m\n│   ├── \u001b[01;32mtrials.repNum.npy\u001b[00m\n│   ├── \u001b[01;32mtrials.response_choice.npy\u001b[00m\n│   ├── \u001b[01;32mtrials.response_times.npy\u001b[00m\n│   ├── \u001b[01;32mtrials.visualStim_contrastLeft.npy\u001b[00m\n│   ├── \u001b[01;32mtrials.visualStim_contrastRight.npy\u001b[00m\n│   ├── \u001b[01;32mtrials.visualStim_times.npy\u001b[00m\n│   ├── \u001b[01;32mwheel.position.npy\u001b[00m\n│   ├── \u001b[01;32mwheel.timestamps.npy\u001b[00m\n│   ├── \u001b[01;32mwheelMoves.intervals.npy\u001b[00m\n│   └── \u001b[01;32mwheelMoves.type.npy\u001b[00m\n├── \u001b[01;32mRichards_2017-11-01.tar\u001b[00m\n├── \u001b[01;34mRichards_2017-11-02\u001b[00m\n│   ├── \u001b[01;32mRichards_2017-11-02_K1_g0_t0.imec.lf.timestamps.npy\u001b[00m\n│   ├── \u001b[01;32mRichards_2017-11-02_K3_g0_t0.imec.lf.timestamps.npy\u001b[00m\n│   ├── \u001b[01;32mchannels.brainLocation.tsv\u001b[00m\n│   ├── \u001b[01;32mchannels.probe.npy\u001b[00m\n│   ├── \u001b[01;32mchannels.rawRow.npy\u001b[00m\n│   ├── \u001b[01;32mchannels.site.npy\u001b[00m\n│   ├── \u001b[01;32mchannels.sitePositions.npy\u001b[00m\n│   ├── \u001b[01;32mclusters._phy_annotation.npy\u001b[00m\n│   ├── \u001b[01;32mclusters.depths.npy\u001b[00m\n│   ├── \u001b[01;32mclusters.originalIDs.npy\u001b[00m\n│   ├── \u001b[01;32mclusters.peakChannel.npy\u001b[00m\n│   ├── \u001b[01;32mclusters.probes.npy\u001b[00m\n│   ├── \u001b[01;32mclusters.templateWaveformChans.npy\u001b[00m\n│   ├── \u001b[01;32mclusters.templateWaveforms.npy\u001b[00m\n│   ├── \u001b[01;32mclusters.waveformDuration.npy\u001b[00m\n│   ├── \u001b[01;32meye.area.npy\u001b[00m\n│   ├── \u001b[01;32meye.timestamps.npy\u001b[00m\n│   ├── \u001b[01;32meye.xyPos.npy\u001b[00m\n│   ├── \u001b[01;32mface.motionEnergy.npy\u001b[00m\n│   ├── \u001b[01;32mface.timestamps.npy\u001b[00m\n│   ├── \u001b[01;32mlickPiezo.raw.npy\u001b[00m\n│   ├── \u001b[01;32mlickPiezo.timestamps.npy\u001b[00m\n│   ├── \u001b[01;32mlicks.times.npy\u001b[00m\n│   ├── \u001b[01;32mpassiveBeeps.times.npy\u001b[00m\n│   ├── \u001b[01;32mpassiveValveClick.times.npy\u001b[00m\n│   ├── \u001b[01;32mpassiveVisual.contrastLeft.npy\u001b[00m\n│   ├── \u001b[01;32mpassiveVisual.contrastRight.npy\u001b[00m\n│   ├── \u001b[01;32mpassiveVisual.times.npy\u001b[00m\n│   ├── \u001b[01;32mpassiveWhiteNoise.times.npy\u001b[00m\n│   ├── \u001b[01;32mprobes.description.tsv\u001b[00m\n│   ├── \u001b[01;32mprobes.insertion.tsv\u001b[00m\n│   ├── \u001b[01;32mprobes.rawFilename.tsv\u001b[00m\n│   ├── \u001b[01;32mprobes.sitePositions.npy\u001b[00m\n│   ├── \u001b[01;32msparseNoise.positions.npy\u001b[00m\n│   ├── \u001b[01;32msparseNoise.times.npy\u001b[00m\n│   ├── \u001b[01;32mspikes.amps.npy\u001b[00m\n│   ├── \u001b[01;32mspikes.clusters.npy\u001b[00m\n│   ├── \u001b[01;32mspikes.depths.npy\u001b[00m\n│   ├── \u001b[01;32mspikes.times.npy\u001b[00m\n│   ├── \u001b[01;32mspontaneous.intervals.npy\u001b[00m\n│   ├── \u001b[01;32mtrials.feedbackType.npy\u001b[00m\n│   ├── \u001b[01;32mtrials.feedback_times.npy\u001b[00m\n│   ├── \u001b[01;32mtrials.goCue_times.npy\u001b[00m\n│   ├── \u001b[01;32mtrials.included.npy\u001b[00m\n│   ├── \u001b[01;32mtrials.intervals.npy\u001b[00m\n│   ├── \u001b[01;32mtrials.repNum.npy\u001b[00m\n│   ├── \u001b[01;32mtrials.response_choice.npy\u001b[00m\n│   ├── \u001b[01;32mtrials.response_times.npy\u001b[00m\n│   ├── \u001b[01;32mtrials.visualStim_contrastLeft.npy\u001b[00m\n│   ├── \u001b[01;32mtrials.visualStim_contrastRight.npy\u001b[00m\n│   ├── \u001b[01;32mtrials.visualStim_times.npy\u001b[00m\n│   ├── \u001b[01;32mwheel.position.npy\u001b[00m\n│   ├── \u001b[01;32mwheel.timestamps.npy\u001b[00m\n│   ├── \u001b[01;32mwheelMoves.intervals.npy\u001b[00m\n│   └── \u001b[01;32mwheelMoves.type.npy\u001b[00m\n├── \u001b[01;32mRichards_2017-11-02.tar\u001b[00m\n├── \u001b[01;32mTatum_2017-12-06.tar\u001b[00m\n├── \u001b[01;32mTatum_2017-12-07.tar\u001b[00m\n├── \u001b[01;32mTatum_2017-12-08.tar\u001b[00m\n├── \u001b[01;32mTatum_2017-12-09.tar\u001b[00m\n└── \u001b[01;32mTheiler_2017-10-11.tar\u001b[00m\n\n6 directories, 370 files\n"
    }
   ],
   "source": [
    "!ls\n",
    "!tree raw_data"
   ]
  },
  {
   "cell_type": "code",
   "execution_count": 13,
   "metadata": {},
   "outputs": [],
   "source": [
    "import numpy as np\n",
    "import pandas as pd\n",
    "from os.path import join as pjoin\n",
    "basic_loc = \"raw_data/Richards_2017-11-02/\"\n",
    "position = np.load(pjoin(basic_loc, \"sparseNoise.positions.npy\"))\n",
    "onset = np.load(pjoin(basic_loc, \"sparseNoise.times.npy\"))\n",
    "\n",
    "spike_clusters = np.load(pjoin(basic_loc, \"spikes.clusters.npy\"))\n",
    "spike_amps = np.load(pjoin(basic_loc, \"spikes.amps.npy\"))\n",
    "spike_times = np.load(pjoin(basic_loc, \"spikes.times.npy\"))"
   ]
  },
  {
   "cell_type": "code",
   "execution_count": 17,
   "metadata": {},
   "outputs": [
    {
     "name": "stdout",
     "output_type": "stream",
     "text": [
      "(12919, 2)\n",
      "(12919, 1)\n"
     ]
    }
   ],
   "source": [
    "print(position.shape)\n",
    "print(onset.shape)"
   ]
  },
  {
   "cell_type": "code",
   "execution_count": 8,
   "metadata": {},
   "outputs": [],
   "source": [
    "%load_ext rpy2.ipython"
   ]
  },
  {
   "cell_type": "code",
   "execution_count": 9,
   "metadata": {
    "tags": []
   },
   "outputs": [
    {
     "output_type": "stream",
     "name": "stderr",
     "text": "R[write to console]: ── Attaching packages ─────────────────────────────────────── tidyverse 1.3.0 ──\n\nR[write to console]: ✔ ggplot2 3.3.2     ✔ purrr   0.3.4\n✔ tibble  3.0.1     ✔ dplyr   1.0.0\n✔ tidyr   1.1.0     ✔ stringr 1.4.0\n✔ readr   1.3.1     ✔ forcats 0.5.0\n\nR[write to console]: ── Conflicts ────────────────────────────────────────── tidyverse_conflicts() ──\n✖ dplyr::filter() masks stats::filter()\n✖ dplyr::lag()    masks stats::lag()\n\n"
    }
   ],
   "source": [
    "%%R\n",
    "library(tidyverse)"
   ]
  },
  {
   "cell_type": "code",
   "execution_count": 15,
   "metadata": {},
   "outputs": [
    {
     "name": "stdout",
     "output_type": "stream",
     "text": [
      "      [,1]      [,2]\n",
      "[1,] -32.4 -128.3333\n",
      "[2,] -32.4 -128.3333\n",
      "[3,] -32.4 -128.3333\n",
      "[4,] -32.4 -128.3333\n",
      "[5,] -32.4 -128.3333\n",
      "[6,] -32.4 -128.3333\n",
      "         [,1]\n",
      "[1,] 1228.310\n",
      "[2,] 1257.574\n",
      "[3,] 1267.024\n",
      "[4,] 1316.922\n",
      "[5,] 1317.522\n",
      "[6,] 1324.588\n",
      " [1] -32.4 -25.2 -18.0 -10.8  -3.6   3.6  10.8  18.0  25.2  32.4\n"
     ]
    }
   ],
   "source": [
    "%%R -i position -i onset\n",
    "print(head(position))\n",
    "print(head(onset))\n",
    "\n",
    "print(unique(position[,1]))"
   ]
  },
  {
   "cell_type": "code",
   "execution_count": 23,
   "metadata": {},
   "outputs": [],
   "source": [
    "%%R -i position -i onset -o task_information\n",
    "task_information = data.frame(cbind(position, onset))\n",
    "names(task_information) = c(\"altitude\", \"azimuth\", \"onset\")"
   ]
  },
  {
   "cell_type": "code",
   "execution_count": 24,
   "metadata": {},
   "outputs": [
    {
     "data": {
      "text/html": [
       "<div>\n",
       "<style scoped>\n",
       "    .dataframe tbody tr th:only-of-type {\n",
       "        vertical-align: middle;\n",
       "    }\n",
       "\n",
       "    .dataframe tbody tr th {\n",
       "        vertical-align: top;\n",
       "    }\n",
       "\n",
       "    .dataframe thead th {\n",
       "        text-align: right;\n",
       "    }\n",
       "</style>\n",
       "<table border=\"1\" class=\"dataframe\">\n",
       "  <thead>\n",
       "    <tr style=\"text-align: right;\">\n",
       "      <th></th>\n",
       "      <th>altitude</th>\n",
       "      <th>azimuth</th>\n",
       "      <th>onset</th>\n",
       "    </tr>\n",
       "  </thead>\n",
       "  <tbody>\n",
       "    <tr>\n",
       "      <th>1</th>\n",
       "      <td>-32.4</td>\n",
       "      <td>-128.333333</td>\n",
       "      <td>1228.309689</td>\n",
       "    </tr>\n",
       "    <tr>\n",
       "      <th>2</th>\n",
       "      <td>-32.4</td>\n",
       "      <td>-128.333333</td>\n",
       "      <td>1257.574457</td>\n",
       "    </tr>\n",
       "    <tr>\n",
       "      <th>3</th>\n",
       "      <td>-32.4</td>\n",
       "      <td>-128.333333</td>\n",
       "      <td>1267.023776</td>\n",
       "    </tr>\n",
       "    <tr>\n",
       "      <th>4</th>\n",
       "      <td>-32.4</td>\n",
       "      <td>-128.333333</td>\n",
       "      <td>1316.921603</td>\n",
       "    </tr>\n",
       "    <tr>\n",
       "      <th>5</th>\n",
       "      <td>-32.4</td>\n",
       "      <td>-128.333333</td>\n",
       "      <td>1317.521611</td>\n",
       "    </tr>\n",
       "  </tbody>\n",
       "</table>\n",
       "</div>"
      ],
      "text/plain": [
       "   altitude     azimuth        onset\n",
       "1     -32.4 -128.333333  1228.309689\n",
       "2     -32.4 -128.333333  1257.574457\n",
       "3     -32.4 -128.333333  1267.023776\n",
       "4     -32.4 -128.333333  1316.921603\n",
       "5     -32.4 -128.333333  1317.521611"
      ]
     },
     "execution_count": 24,
     "metadata": {},
     "output_type": "execute_result"
    }
   ],
   "source": [
    "task_information.head()"
   ]
  },
  {
   "cell_type": "code",
   "execution_count": 25,
   "metadata": {},
   "outputs": [
    {
     "name": "stdout",
     "output_type": "stream",
     "text": [
      " [1] -32.4 -25.2 -18.0 -10.8  -3.6   3.6  10.8  18.0  25.2  32.4\n",
      " [1] -128.333333 -121.000000 -113.666667 -106.333333  -99.000000  -91.666667\n",
      " [7]  -84.333333  -77.000000  -69.666667  -62.333333  -55.000000  -47.666667\n",
      "[13]  -40.333333  -33.000000  -25.666667  -18.333333  -11.000000   -3.666667\n",
      "[19]    3.666667   11.000000   18.333333   25.666667   33.000000   40.333333\n",
      "[25]   47.666667   55.000000   62.333333   69.666667   77.000000   84.333333\n",
      "[31]   91.666667   99.000000  106.333333  113.666667  121.000000  128.333333\n"
     ]
    }
   ],
   "source": [
    "%%R -i task_information\n",
    "print(unique(task_information$altitude))\n",
    "print(unique(task_information$azimuth))"
   ]
  },
  {
   "cell_type": "code",
   "execution_count": 14,
   "metadata": {
    "tags": []
   },
   "outputs": [
    {
     "output_type": "stream",
     "name": "stdout",
     "text": "[,1]\n[1,]  753\n[2,]  858\n[3,]  700\n[4,]  686\n[5,]  676\n[6,]  900\n     [,1]\n[1,] 469.2724\n[2,] 114.6847\n[3,] 131.1274\n[4,] 102.6566\n[5,] 224.4500\n[6,] 138.5786\n"
    }
   ],
   "source": [
    "%%R -i spike_clusters -i spike_amps -i spike_times -o input_data\n",
    "\n",
    "print(head(spike_clusters))\n",
    "print(head(spike_amps))\n",
    "\n",
    "input_data <- data.frame(cbind(spike_clusters, spike_times))"
   ]
  },
  {
   "cell_type": "code",
   "execution_count": 16,
   "metadata": {
    "tags": []
   },
   "outputs": [
    {
     "output_type": "stream",
     "name": "stdout",
     "text": "X1        X2\n1 753 -1.571436\n2 858 -1.571336\n3 700 -1.570703\n4 686 -1.570070\n5 676 -1.569670\n6 900 -1.569570\n"
    }
   ],
   "source": [
    "%%R -i input_data\n",
    "\n",
    "head(input_data)"
   ]
  },
  {
   "cell_type": "code",
   "execution_count": null,
   "metadata": {},
   "outputs": [],
   "source": []
  }
 ],
 "metadata": {
  "kernelspec": {
   "display_name": "Python 3",
   "language": "python",
   "name": "python3"
  },
  "language_info": {
   "codemirror_mode": {
    "name": "ipython",
    "version": 3
   },
   "file_extension": ".py",
   "mimetype": "text/x-python",
   "name": "python",
   "nbconvert_exporter": "python",
   "pygments_lexer": "ipython3",
   "version": "3.7.4"
  }
 },
 "nbformat": 4,
 "nbformat_minor": 4
}